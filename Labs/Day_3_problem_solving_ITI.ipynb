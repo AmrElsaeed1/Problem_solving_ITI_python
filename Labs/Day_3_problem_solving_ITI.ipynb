{
 "cells": [
  {
   "cell_type": "markdown",
   "id": "7571e8ba",
   "metadata": {},
   "source": [
    "# Task one\n",
    "### using function concept in old code\n",
    "### fill an array of 5 elements from the user, fort it in descending and ascending orders, then display the output"
   ]
  },
  {
   "cell_type": "code",
   "execution_count": 3,
   "id": "b8d40d3e",
   "metadata": {},
   "outputs": [],
   "source": [
    "def get_numbers():\n",
    "    number=[]\n",
    "    for i in range(5):\n",
    "        num=input(\"please input a number: \")\n",
    "        while not num.isdigit():\n",
    "            num=input(\"please input a valid number: \")\n",
    "        else:\n",
    "            number.append(int(num))\n",
    "    return number\n",
    "def sort_list(number):\n",
    "    acending_number=sorted(number)\n",
    "    descending_list=sorted(number,reverse=True)\n",
    "    print(f\"the ascending list is {acending_number}\")\n",
    "    print(f\"the descending list is {descending_list}\")\n"
   ]
  },
  {
   "cell_type": "code",
   "execution_count": 5,
   "id": "82e84da2",
   "metadata": {},
   "outputs": [
    {
     "name": "stdout",
     "output_type": "stream",
     "text": [
      "please input a number: 5\n",
      "please input a number: 9\n",
      "please input a number: 8\n",
      "please input a number: 3\n",
      "please input a number: 1\n",
      "the ascending list is [1, 3, 5, 8, 9]\n",
      "the descending list is [9, 8, 5, 3, 1]\n"
     ]
    }
   ],
   "source": [
    "sort_list(get_numbers())"
   ]
  },
  {
   "cell_type": "markdown",
   "id": "d91dd5c2",
   "metadata": {},
   "source": [
    "# Task two\n",
    "### get the user name and the password and check if they exist in your database(dictionary)\n"
   ]
  },
  {
   "cell_type": "code",
   "execution_count": 5,
   "id": "f934237e",
   "metadata": {},
   "outputs": [],
   "source": [
    "users_list = [\n",
    "    {\"name\": \"alice\", \"password\": \"aB3xY7\"},\n",
    "    {\"name\": \"bob\", \"password\": \"pQ9rT2\"},\n",
    "    {\"name\": \"charlie\", \"password\": \"Lm8nW4\"},\n",
    "    {\"name\": \"david\", \"password\": \"k5vFd1\"},\n",
    "    {\"name\": \"eva\", \"password\": \"Zq7wE0\"}\n",
    "    \n",
    "]"
   ]
  },
  {
   "cell_type": "code",
   "execution_count": 44,
   "id": "e6d08cf7",
   "metadata": {},
   "outputs": [
    {
     "name": "stdout",
     "output_type": "stream",
     "text": [
      "Enter your name: amr\n",
      "Enter your passwordkdkdkd\n",
      "Enter valid information\n"
     ]
    }
   ],
   "source": [
    "while True:\n",
    "    dictionary={}\n",
    "    name=input(\"Enter your name: \").strip()\n",
    "    password=input(\"Enter your password\")\n",
    "    if name and not name.isdigit():\n",
    "        dictionary.update({\"name\":name,\"password\":password})\n",
    "        break\n",
    "    else:\n",
    "        print(\"Please enter a valid name(non-empty and not an integer).\")\n",
    "\n",
    "for user in users_list:\n",
    "    if user ==dictionary:\n",
    "        print(\"valid information\")\n",
    "else:\n",
    "    print(\"Enter valid information\")\n",
    "    \n",
    "        "
   ]
  },
  {
   "cell_type": "markdown",
   "id": "69b278b5",
   "metadata": {},
   "source": [
    "# another way"
   ]
  },
  {
   "cell_type": "markdown",
   "id": "51fef1ed",
   "metadata": {},
   "source": [
    "\n"
   ]
  },
  {
   "cell_type": "code",
   "execution_count": 4,
   "id": "b703dd7d",
   "metadata": {},
   "outputs": [],
   "source": [
    "users_list = [\n",
    "    {\"name\": \"alice\", \"password\": \"aB3xY7\"},\n",
    "    {\"name\": \"bob\", \"password\": \"pQ9rT2\"},\n",
    "    {\"name\": \"charlie\", \"password\": \"Lm8nW4\"},\n",
    "    {\"name\": \"david\", \"password\": \"k5vFd1\"},\n",
    "    {\"name\": \"eva\", \"password\": \"Zq7wE0\"}\n",
    "    \n",
    "]"
   ]
  },
  {
   "cell_type": "code",
   "execution_count": null,
   "id": "0e0316f4",
   "metadata": {},
   "outputs": [
    {
     "name": "stdout",
     "output_type": "stream",
     "text": [
      "enter your name: akmd\n",
      "enter your password: dkkd\n",
      "Username not found. Please check your input.\n",
      "enter your name: eva\n",
      "enter your password: dkdkkd\n",
      "Incorrect password\n"
     ]
    }
   ],
   "source": [
    "# %%writefile test.py\n",
    "def check_user(username, password):\n",
    "    count=0\n",
    "    while not username.isalpha():\n",
    "        count+=1\n",
    "        username=input(\"print enter a valild name with alphabit : \")\n",
    "        if count>5:\n",
    "            print(\"you've reached out the maximum tries , please try again later\")\n",
    "            break\n",
    "    \n",
    "    for user in users_list:\n",
    "        if user[\"name\"] == username.strip():  \n",
    "            if user[\"password\"] == password.strip():  \n",
    "                return f\"Welcome, {username} .\", 1\n",
    "            else:\n",
    "                \n",
    "                return \"Incorrect password\",0\n",
    "    return \"Username not found. Please check your input.\" , 0\n",
    "\n",
    "response=0\n",
    "while not response:\n",
    "    user_name=input(\"enter your name: \")\n",
    "    pass_word=input(\"enter your password: \")\n",
    "        \n",
    "    mess,response=check_user(user_name,pass_word)\n",
    "    print(mess)\n",
    "    \n"
   ]
  },
  {
   "cell_type": "code",
   "execution_count": 46,
   "id": "8dade3fb",
   "metadata": {},
   "outputs": [
    {
     "data": {
      "text/plain": [
       "'Welcome, eva .'"
      ]
     },
     "execution_count": 46,
     "metadata": {},
     "output_type": "execute_result"
    }
   ],
   "source": [
    "check_user(\"eva\",\"Zq7wE0\")"
   ]
  },
  {
   "cell_type": "code",
   "execution_count": 47,
   "id": "78d740b8",
   "metadata": {},
   "outputs": [
    {
     "data": {
      "text/plain": [
       "'Username not found. Please check your input.'"
      ]
     },
     "execution_count": 47,
     "metadata": {},
     "output_type": "execute_result"
    }
   ],
   "source": [
    "check_user(\"amr\",\"Zq7wE0\")\n"
   ]
  },
  {
   "cell_type": "code",
   "execution_count": null,
   "id": "edf5acdb",
   "metadata": {},
   "outputs": [],
   "source": [
    "\n"
   ]
  },
  {
   "cell_type": "code",
   "execution_count": null,
   "id": "6315ea50",
   "metadata": {},
   "outputs": [],
   "source": []
  }
 ],
 "metadata": {
  "kernelspec": {
   "display_name": "Python 3 (ipykernel)",
   "language": "python",
   "name": "python3"
  },
  "language_info": {
   "codemirror_mode": {
    "name": "ipython",
    "version": 3
   },
   "file_extension": ".py",
   "mimetype": "text/x-python",
   "name": "python",
   "nbconvert_exporter": "python",
   "pygments_lexer": "ipython3",
   "version": "3.9.13"
  }
 },
 "nbformat": 4,
 "nbformat_minor": 5
}
